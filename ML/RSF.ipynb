{
  "cells": [
    {
      "cell_type": "markdown",
      "metadata": {
        "id": "Mi8fDKexW_ES"
      },
      "source": [
        "# Random Survival Forest (RSF)\n",
        "\n",
        " "
      ]
    },
    {
      "cell_type": "code",
      "execution_count": 1,
      "metadata": {
        "colab": {
          "base_uri": "https://localhost:8080/"
        },
        "id": "fDMQtvQSW1Kd",
        "outputId": "a075d899-5d44-4d08-f116-4a0e600b5ac8"
      },
      "outputs": [],
      "source": [
        "import pandas as pd\n",
        "import numpy as np\n",
        "import seaborn as sns\n",
        "import pylab as pl\n",
        "import matplotlib.pyplot as plt\n",
        "%matplotlib inline\n",
        "data = pd.read_csv(\"~/Metabric/Data.csv\")"
      ]
    },
    {
      "cell_type": "code",
      "execution_count": 2,
      "metadata": {},
      "outputs": [
        {
          "data": {
            "text/html": [
              "<div>\n",
              "<style scoped>\n",
              "    .dataframe tbody tr th:only-of-type {\n",
              "        vertical-align: middle;\n",
              "    }\n",
              "\n",
              "    .dataframe tbody tr th {\n",
              "        vertical-align: top;\n",
              "    }\n",
              "\n",
              "    .dataframe thead th {\n",
              "        text-align: right;\n",
              "    }\n",
              "</style>\n",
              "<table border=\"1\" class=\"dataframe\">\n",
              "  <thead>\n",
              "    <tr style=\"text-align: right;\">\n",
              "      <th></th>\n",
              "      <th>Mixture</th>\n",
              "      <th>B.cells.Memory</th>\n",
              "      <th>B.cells.Naive</th>\n",
              "      <th>CAFs.MSC.iCAF.like</th>\n",
              "      <th>CAFs.myCAF.like</th>\n",
              "      <th>DCs</th>\n",
              "      <th>Endothelial.ACKR1</th>\n",
              "      <th>Endothelial.CXCL12</th>\n",
              "      <th>Endothelial.LYVE1</th>\n",
              "      <th>Endothelial.RGS5</th>\n",
              "      <th>...</th>\n",
              "      <th>Nottingham.prog.ind</th>\n",
              "      <th>PgR</th>\n",
              "      <th>Tumor.Size</th>\n",
              "      <th>Tumor.Stage</th>\n",
              "      <th>Lym.nodes.positive</th>\n",
              "      <th>RFSurvival</th>\n",
              "      <th>RFStatus</th>\n",
              "      <th>PAM50CL</th>\n",
              "      <th>Age</th>\n",
              "      <th>Cellularity</th>\n",
              "    </tr>\n",
              "  </thead>\n",
              "  <tbody>\n",
              "    <tr>\n",
              "      <th>0</th>\n",
              "      <td>MB.0362</td>\n",
              "      <td>0.0</td>\n",
              "      <td>0.001666</td>\n",
              "      <td>0.001131</td>\n",
              "      <td>0.210700</td>\n",
              "      <td>0.0</td>\n",
              "      <td>0.016915</td>\n",
              "      <td>0.000926</td>\n",
              "      <td>0.005229</td>\n",
              "      <td>0.006589</td>\n",
              "      <td>...</td>\n",
              "      <td>4.036</td>\n",
              "      <td>Positive</td>\n",
              "      <td>18.0</td>\n",
              "      <td>2.0</td>\n",
              "      <td>1.0</td>\n",
              "      <td>46.41</td>\n",
              "      <td>1.0</td>\n",
              "      <td>LumA</td>\n",
              "      <td>52.79</td>\n",
              "      <td>High</td>\n",
              "    </tr>\n",
              "    <tr>\n",
              "      <th>1</th>\n",
              "      <td>MB.0346</td>\n",
              "      <td>0.0</td>\n",
              "      <td>0.003289</td>\n",
              "      <td>0.000000</td>\n",
              "      <td>0.051879</td>\n",
              "      <td>0.0</td>\n",
              "      <td>0.000000</td>\n",
              "      <td>0.000000</td>\n",
              "      <td>0.003398</td>\n",
              "      <td>0.024772</td>\n",
              "      <td>...</td>\n",
              "      <td>6.032</td>\n",
              "      <td>Negative</td>\n",
              "      <td>16.0</td>\n",
              "      <td>2.0</td>\n",
              "      <td>5.0</td>\n",
              "      <td>20.16</td>\n",
              "      <td>1.0</td>\n",
              "      <td>Her2</td>\n",
              "      <td>32.61</td>\n",
              "      <td>High</td>\n",
              "    </tr>\n",
              "    <tr>\n",
              "      <th>2</th>\n",
              "      <td>MB.0386</td>\n",
              "      <td>0.0</td>\n",
              "      <td>0.009385</td>\n",
              "      <td>0.047657</td>\n",
              "      <td>0.190845</td>\n",
              "      <td>0.0</td>\n",
              "      <td>0.001727</td>\n",
              "      <td>0.000000</td>\n",
              "      <td>0.005864</td>\n",
              "      <td>0.048940</td>\n",
              "      <td>...</td>\n",
              "      <td>6.030</td>\n",
              "      <td>Positive</td>\n",
              "      <td>15.0</td>\n",
              "      <td>3.0</td>\n",
              "      <td>8.0</td>\n",
              "      <td>121.09</td>\n",
              "      <td>1.0</td>\n",
              "      <td>LumA</td>\n",
              "      <td>66.83</td>\n",
              "      <td>Moderate</td>\n",
              "    </tr>\n",
              "    <tr>\n",
              "      <th>3</th>\n",
              "      <td>MB.0574</td>\n",
              "      <td>0.0</td>\n",
              "      <td>0.002752</td>\n",
              "      <td>0.000086</td>\n",
              "      <td>0.176506</td>\n",
              "      <td>0.0</td>\n",
              "      <td>0.000252</td>\n",
              "      <td>0.000000</td>\n",
              "      <td>0.001514</td>\n",
              "      <td>0.014069</td>\n",
              "      <td>...</td>\n",
              "      <td>5.042</td>\n",
              "      <td>Positive</td>\n",
              "      <td>21.0</td>\n",
              "      <td>2.0</td>\n",
              "      <td>1.0</td>\n",
              "      <td>9.84</td>\n",
              "      <td>1.0</td>\n",
              "      <td>LumA</td>\n",
              "      <td>71.21</td>\n",
              "      <td>High</td>\n",
              "    </tr>\n",
              "    <tr>\n",
              "      <th>4</th>\n",
              "      <td>MB.0185</td>\n",
              "      <td>0.0</td>\n",
              "      <td>0.011018</td>\n",
              "      <td>0.000000</td>\n",
              "      <td>0.168635</td>\n",
              "      <td>0.0</td>\n",
              "      <td>0.003078</td>\n",
              "      <td>0.003700</td>\n",
              "      <td>0.000000</td>\n",
              "      <td>0.011817</td>\n",
              "      <td>...</td>\n",
              "      <td>5.100</td>\n",
              "      <td>Positive</td>\n",
              "      <td>50.0</td>\n",
              "      <td>2.0</td>\n",
              "      <td>NaN</td>\n",
              "      <td>35.72</td>\n",
              "      <td>1.0</td>\n",
              "      <td>LumB</td>\n",
              "      <td>76.84</td>\n",
              "      <td>Moderate</td>\n",
              "    </tr>\n",
              "  </tbody>\n",
              "</table>\n",
              "<p>5 rows × 43 columns</p>\n",
              "</div>"
            ],
            "text/plain": [
              "   Mixture  B.cells.Memory  B.cells.Naive  CAFs.MSC.iCAF.like  \\\n",
              "0  MB.0362             0.0       0.001666            0.001131   \n",
              "1  MB.0346             0.0       0.003289            0.000000   \n",
              "2  MB.0386             0.0       0.009385            0.047657   \n",
              "3  MB.0574             0.0       0.002752            0.000086   \n",
              "4  MB.0185             0.0       0.011018            0.000000   \n",
              "\n",
              "   CAFs.myCAF.like  DCs  Endothelial.ACKR1  Endothelial.CXCL12  \\\n",
              "0         0.210700  0.0           0.016915            0.000926   \n",
              "1         0.051879  0.0           0.000000            0.000000   \n",
              "2         0.190845  0.0           0.001727            0.000000   \n",
              "3         0.176506  0.0           0.000252            0.000000   \n",
              "4         0.168635  0.0           0.003078            0.003700   \n",
              "\n",
              "   Endothelial.LYVE1  Endothelial.RGS5  ...  Nottingham.prog.ind       PgR  \\\n",
              "0           0.005229          0.006589  ...                4.036  Positive   \n",
              "1           0.003398          0.024772  ...                6.032  Negative   \n",
              "2           0.005864          0.048940  ...                6.030  Positive   \n",
              "3           0.001514          0.014069  ...                5.042  Positive   \n",
              "4           0.000000          0.011817  ...                5.100  Positive   \n",
              "\n",
              "   Tumor.Size  Tumor.Stage  Lym.nodes.positive  RFSurvival  RFStatus  PAM50CL  \\\n",
              "0        18.0          2.0                 1.0       46.41       1.0     LumA   \n",
              "1        16.0          2.0                 5.0       20.16       1.0     Her2   \n",
              "2        15.0          3.0                 8.0      121.09       1.0     LumA   \n",
              "3        21.0          2.0                 1.0        9.84       1.0     LumA   \n",
              "4        50.0          2.0                 NaN       35.72       1.0     LumB   \n",
              "\n",
              "     Age  Cellularity  \n",
              "0  52.79         High  \n",
              "1  32.61         High  \n",
              "2  66.83     Moderate  \n",
              "3  71.21         High  \n",
              "4  76.84     Moderate  \n",
              "\n",
              "[5 rows x 43 columns]"
            ]
          },
          "execution_count": 2,
          "metadata": {},
          "output_type": "execute_result"
        }
      ],
      "source": [
        "data2.head()"
      ]
    },
    {
      "cell_type": "code",
      "execution_count": 3,
      "metadata": {
        "id": "7ek2dyaE6CnT"
      },
      "outputs": [
        {
          "data": {
            "text/plain": [
              "(1764, 40)"
            ]
          },
          "execution_count": 3,
          "metadata": {},
          "output_type": "execute_result"
        }
      ],
      "source": [
        "data=  pd.DataFrame(data.drop(['Tumor.Stage','PAM50CL', 'Nottingham.prog.ind'], axis=1))  \n",
        "data=data.dropna(axis=0) "
      ]
    },
    {
      "cell_type": "code",
      "execution_count": 4,
      "metadata": {},
      "outputs": [],
      "source": [
        "# Mapping dictionaries\n",
        "mappings = {\n",
        "    'HER2': {'Positive': 1, 'Negative': 0},\n",
        "    'PgR': {'Positive': 1, 'Negative': 0},\n",
        "    'ER': {'Positive': 1, 'Negative': 0},\n",
        "    'Cellularity': {'Low': 1, 'Moderate': 2, 'High': 3}\n",
        "}\n",
        "\n",
        "# Replace values in columns using the mappings\n",
        "for column, mapping in mappings.items():\n",
        "    data[column] = data[column].replace(mapping)\n",
        "\n",
        "# Convert categorical column 'PAM50' to dummy variables\n",
        "data = pd.get_dummies(data, columns=['PAM50'])\n"
      ]
    },
    {
      "cell_type": "markdown",
      "metadata": {
        "id": "j73TF8pxfy1-"
      },
      "source": [
        "# Preprocessing "
      ]
    },
    {
      "cell_type": "code",
      "execution_count": 6,
      "metadata": {
        "id": "CkBvW7G-A-3K"
      },
      "outputs": [],
      "source": [
        "import seaborn as sns\n",
        "from sklearn import set_config\n",
        "from sklearn.model_selection import ShuffleSplit, GridSearchCV\n",
        "\n",
        "from sksurv.metrics import concordance_index_censored\n",
        "from sksurv.svm import FastSurvivalSVM"
      ]
    },
    {
      "cell_type": "code",
      "execution_count": 7,
      "metadata": {},
      "outputs": [],
      "source": [
        "set_config(display=\"text\")  # displays text representation of estimators\n",
        "sns.set_style(\"whitegrid\")"
      ]
    },
    {
      "cell_type": "code",
      "execution_count": 8,
      "metadata": {
        "colab": {
          "base_uri": "https://localhost:8080/",
          "height": 299
        },
        "id": "YjRGg5ysqFw7",
        "outputId": "9c8bf6e6-224f-454b-8a11-c0f6b3c2f52f"
      },
      "outputs": [],
      "source": [
        "X= pd.DataFrame(data.drop(['Mixture',   'RFSurvival',   'RFStatus'  ], axis=1))  \n",
        "d3= pd.DataFrame(data.drop(['Mixture',   'RFSurvival',   'RFStatus'  ], axis=1))  \n",
        "y=  data[['RFStatus','RFSurvival']]"
      ]
    },
    {
      "cell_type": "code",
      "execution_count": 9,
      "metadata": {},
      "outputs": [
        {
          "data": {
            "text/html": [
              "<div>\n",
              "<style scoped>\n",
              "    .dataframe tbody tr th:only-of-type {\n",
              "        vertical-align: middle;\n",
              "    }\n",
              "\n",
              "    .dataframe tbody tr th {\n",
              "        vertical-align: top;\n",
              "    }\n",
              "\n",
              "    .dataframe thead th {\n",
              "        text-align: right;\n",
              "    }\n",
              "</style>\n",
              "<table border=\"1\" class=\"dataframe\">\n",
              "  <thead>\n",
              "    <tr style=\"text-align: right;\">\n",
              "      <th></th>\n",
              "      <th>B.cells.Memory</th>\n",
              "      <th>B.cells.Naive</th>\n",
              "      <th>CAFs.MSC.iCAF.like</th>\n",
              "      <th>CAFs.myCAF.like</th>\n",
              "      <th>DCs</th>\n",
              "      <th>Endothelial.ACKR1</th>\n",
              "      <th>Endothelial.CXCL12</th>\n",
              "      <th>Endothelial.LYVE1</th>\n",
              "      <th>Endothelial.RGS5</th>\n",
              "      <th>GenMod1</th>\n",
              "      <th>...</th>\n",
              "      <th>PgR</th>\n",
              "      <th>Tumor.Size</th>\n",
              "      <th>Lym.nodes.positive</th>\n",
              "      <th>Age</th>\n",
              "      <th>Cellularity</th>\n",
              "      <th>PAM50_Basal</th>\n",
              "      <th>PAM50_Her2</th>\n",
              "      <th>PAM50_LumA</th>\n",
              "      <th>PAM50_LumB</th>\n",
              "      <th>PAM50_Normal</th>\n",
              "    </tr>\n",
              "  </thead>\n",
              "  <tbody>\n",
              "    <tr>\n",
              "      <th>0</th>\n",
              "      <td>-0.240249</td>\n",
              "      <td>-0.516887</td>\n",
              "      <td>-0.409623</td>\n",
              "      <td>0.606237</td>\n",
              "      <td>-0.279513</td>\n",
              "      <td>1.078028</td>\n",
              "      <td>-0.511583</td>\n",
              "      <td>0.417053</td>\n",
              "      <td>-0.855290</td>\n",
              "      <td>0.201101</td>\n",
              "      <td>...</td>\n",
              "      <td>0.953463</td>\n",
              "      <td>-0.548884</td>\n",
              "      <td>-0.252540</td>\n",
              "      <td>-0.630026</td>\n",
              "      <td>0.874699</td>\n",
              "      <td>-0.461741</td>\n",
              "      <td>-0.400657</td>\n",
              "      <td>-0.715240</td>\n",
              "      <td>1.668954</td>\n",
              "      <td>-0.301511</td>\n",
              "    </tr>\n",
              "    <tr>\n",
              "      <th>1</th>\n",
              "      <td>-0.240249</td>\n",
              "      <td>-0.326461</td>\n",
              "      <td>-0.443483</td>\n",
              "      <td>-0.989886</td>\n",
              "      <td>-0.279513</td>\n",
              "      <td>-0.567284</td>\n",
              "      <td>-0.622712</td>\n",
              "      <td>0.051459</td>\n",
              "      <td>0.312454</td>\n",
              "      <td>-0.103742</td>\n",
              "      <td>...</td>\n",
              "      <td>-1.048809</td>\n",
              "      <td>-0.678931</td>\n",
              "      <td>0.711704</td>\n",
              "      <td>-2.178924</td>\n",
              "      <td>0.874699</td>\n",
              "      <td>-0.461741</td>\n",
              "      <td>2.495898</td>\n",
              "      <td>-0.715240</td>\n",
              "      <td>-0.599178</td>\n",
              "      <td>-0.301511</td>\n",
              "    </tr>\n",
              "    <tr>\n",
              "      <th>2</th>\n",
              "      <td>-0.240249</td>\n",
              "      <td>0.388537</td>\n",
              "      <td>0.983750</td>\n",
              "      <td>0.406695</td>\n",
              "      <td>-0.279513</td>\n",
              "      <td>-0.399258</td>\n",
              "      <td>-0.622712</td>\n",
              "      <td>0.544000</td>\n",
              "      <td>1.864571</td>\n",
              "      <td>0.881041</td>\n",
              "      <td>...</td>\n",
              "      <td>0.953463</td>\n",
              "      <td>-0.743955</td>\n",
              "      <td>1.434887</td>\n",
              "      <td>0.447601</td>\n",
              "      <td>-0.606078</td>\n",
              "      <td>-0.461741</td>\n",
              "      <td>-0.400657</td>\n",
              "      <td>-0.715240</td>\n",
              "      <td>1.668954</td>\n",
              "      <td>-0.301511</td>\n",
              "    </tr>\n",
              "    <tr>\n",
              "      <th>3</th>\n",
              "      <td>-0.240249</td>\n",
              "      <td>-0.389463</td>\n",
              "      <td>-0.440916</td>\n",
              "      <td>0.262595</td>\n",
              "      <td>-0.279513</td>\n",
              "      <td>-0.542771</td>\n",
              "      <td>-0.622712</td>\n",
              "      <td>-0.324862</td>\n",
              "      <td>-0.374897</td>\n",
              "      <td>-0.980525</td>\n",
              "      <td>...</td>\n",
              "      <td>0.953463</td>\n",
              "      <td>-0.353813</td>\n",
              "      <td>-0.252540</td>\n",
              "      <td>0.783784</td>\n",
              "      <td>0.874699</td>\n",
              "      <td>-0.461741</td>\n",
              "      <td>-0.400657</td>\n",
              "      <td>-0.715240</td>\n",
              "      <td>1.668954</td>\n",
              "      <td>-0.301511</td>\n",
              "    </tr>\n",
              "    <tr>\n",
              "      <th>4</th>\n",
              "      <td>-0.240249</td>\n",
              "      <td>-0.229412</td>\n",
              "      <td>0.705109</td>\n",
              "      <td>0.057752</td>\n",
              "      <td>-0.279513</td>\n",
              "      <td>0.338184</td>\n",
              "      <td>0.008489</td>\n",
              "      <td>0.032664</td>\n",
              "      <td>-0.721298</td>\n",
              "      <td>0.721458</td>\n",
              "      <td>...</td>\n",
              "      <td>0.953463</td>\n",
              "      <td>-0.223766</td>\n",
              "      <td>-0.493601</td>\n",
              "      <td>-0.017529</td>\n",
              "      <td>0.874699</td>\n",
              "      <td>-0.461741</td>\n",
              "      <td>-0.400657</td>\n",
              "      <td>1.398132</td>\n",
              "      <td>-0.599178</td>\n",
              "      <td>-0.301511</td>\n",
              "    </tr>\n",
              "  </tbody>\n",
              "</table>\n",
              "<p>5 rows × 41 columns</p>\n",
              "</div>"
            ],
            "text/plain": [
              "   B.cells.Memory  B.cells.Naive  CAFs.MSC.iCAF.like  CAFs.myCAF.like  \\\n",
              "0       -0.240249      -0.516887           -0.409623         0.606237   \n",
              "1       -0.240249      -0.326461           -0.443483        -0.989886   \n",
              "2       -0.240249       0.388537            0.983750         0.406695   \n",
              "3       -0.240249      -0.389463           -0.440916         0.262595   \n",
              "4       -0.240249      -0.229412            0.705109         0.057752   \n",
              "\n",
              "        DCs  Endothelial.ACKR1  Endothelial.CXCL12  Endothelial.LYVE1  \\\n",
              "0 -0.279513           1.078028           -0.511583           0.417053   \n",
              "1 -0.279513          -0.567284           -0.622712           0.051459   \n",
              "2 -0.279513          -0.399258           -0.622712           0.544000   \n",
              "3 -0.279513          -0.542771           -0.622712          -0.324862   \n",
              "4 -0.279513           0.338184            0.008489           0.032664   \n",
              "\n",
              "   Endothelial.RGS5   GenMod1  ...       PgR  Tumor.Size  Lym.nodes.positive  \\\n",
              "0         -0.855290  0.201101  ...  0.953463   -0.548884           -0.252540   \n",
              "1          0.312454 -0.103742  ... -1.048809   -0.678931            0.711704   \n",
              "2          1.864571  0.881041  ...  0.953463   -0.743955            1.434887   \n",
              "3         -0.374897 -0.980525  ...  0.953463   -0.353813           -0.252540   \n",
              "4         -0.721298  0.721458  ...  0.953463   -0.223766           -0.493601   \n",
              "\n",
              "        Age  Cellularity  PAM50_Basal  PAM50_Her2  PAM50_LumA  PAM50_LumB  \\\n",
              "0 -0.630026     0.874699    -0.461741   -0.400657   -0.715240    1.668954   \n",
              "1 -2.178924     0.874699    -0.461741    2.495898   -0.715240   -0.599178   \n",
              "2  0.447601    -0.606078    -0.461741   -0.400657   -0.715240    1.668954   \n",
              "3  0.783784     0.874699    -0.461741   -0.400657   -0.715240    1.668954   \n",
              "4 -0.017529     0.874699    -0.461741   -0.400657    1.398132   -0.599178   \n",
              "\n",
              "   PAM50_Normal  \n",
              "0     -0.301511  \n",
              "1     -0.301511  \n",
              "2     -0.301511  \n",
              "3     -0.301511  \n",
              "4     -0.301511  \n",
              "\n",
              "[5 rows x 41 columns]"
            ]
          },
          "execution_count": 9,
          "metadata": {},
          "output_type": "execute_result"
        }
      ],
      "source": [
        "from sklearn import preprocessing\n",
        "X = pd.DataFrame(preprocessing.StandardScaler().fit(X).transform(X), columns =d3.columns)\n",
        "X.shape\n",
        "X.head()"
      ]
    },
    {
      "cell_type": "code",
      "execution_count": 10,
      "metadata": {},
      "outputs": [
        {
          "data": {
            "text/plain": [
              "(1764, 2)"
            ]
          },
          "execution_count": 10,
          "metadata": {},
          "output_type": "execute_result"
        }
      ],
      "source": [
        "X.shape\n",
        "y.shape"
      ]
    },
    {
      "cell_type": "code",
      "execution_count": 11,
      "metadata": {},
      "outputs": [
        {
          "name": "stdout",
          "output_type": "stream",
          "text": [
            "59.2% of records are censored\n"
          ]
        }
      ],
      "source": [
        "n_censored = y.shape[0] - y[\"RFStatus\"].sum()\n",
        "print(\"%.1f%% of records are censored\" % (n_censored / y.shape[0] * 100))"
      ]
    },
    {
      "cell_type": "code",
      "execution_count": 12,
      "metadata": {},
      "outputs": [],
      "source": [
        "def score_survival_model(model, X, y):\n",
        "    prediction = model.predict(X)\n",
        "    result = concordance_index_censored(y['RFStatus'], y['RFSurvival'], prediction)\n",
        "    return result[0]"
      ]
    },
    {
      "cell_type": "code",
      "execution_count": 13,
      "metadata": {},
      "outputs": [],
      "source": [
        "y=y.to_numpy()\n",
        "aux=[(e1,e2) for e1,e2 in y]\n",
        "ny=np.array(aux,dtype=[('RFStatus','?'),('RFSurvival','<f8')])"
      ]
    },
    {
      "cell_type": "code",
      "execution_count": 14,
      "metadata": {},
      "outputs": [],
      "source": [
        "#   Import necessary ML packages\n",
        "from sklearn.model_selection import train_test_split\n",
        "from sklearn.pipeline import Pipeline\n",
        "from sklearn.metrics import classification_report\n",
        "\n",
        "X_train,X_test,y_train,y_test=train_test_split(X,ny,test_size=0.3333,random_state=10)#"
      ]
    },
    {
      "cell_type": "code",
      "execution_count": 15,
      "metadata": {},
      "outputs": [],
      "source": [
        "from sklearn import set_config\n",
        "from sklearn.model_selection import train_test_split\n",
        "from sklearn.preprocessing import OrdinalEncoder\n",
        "\n",
        "from sksurv.datasets import load_gbsg2\n",
        "from sksurv.preprocessing import OneHotEncoder\n",
        "from sksurv.ensemble import RandomSurvivalForest\n",
        "\n",
        "set_config(display=\"text\")  # displays text representation of estimators"
      ]
    },
    {
      "cell_type": "code",
      "execution_count": 18,
      "metadata": {},
      "outputs": [
        {
          "name": "stdout",
          "output_type": "stream",
          "text": [
            "    n_estimators  min_samples_split  min_samples_leaf    CIndex        SD\n",
            "5             50                  5                18  0.686045  0.010942\n",
            "14            50                 10                18  0.686045  0.010942\n",
            "23            50                 15                18  0.686045  0.010942\n",
            "32            50                 20                18  0.686045  0.010942\n"
          ]
        }
      ],
      "source": [
        "from numpy import mean\n",
        "from numpy import std\n",
        "\n",
        "rsf = RandomSurvivalForest(n_jobs=-1,\n",
        "                           random_state=0)\n",
        "\n",
        "scores_rsf={} \n",
        "scores_rsf2={}\n",
        "for i in range(1,10):\n",
        "    n_estimators =i*50\n",
        "    for j in range(1,5):\n",
        "        min_samples_split=j*5\n",
        "        for k in range(1,10):\n",
        "            min_samples_leaf=k*3\n",
        "            rsf.set_params(n_estimators=n_estimators,min_samples_split=min_samples_split,min_samples_leaf=min_samples_leaf)\n",
        "            for it in range(1,4):\n",
        "                iter=it\n",
        "                X_train,X_test,y_train,y_test=train_test_split(X,ny,test_size=0.3333,random_state=12*iter)\n",
        "                rsf.fit(X_train, y_train)\n",
        "                scores_rsf2[iter]=rsf.score(X_test, y_test)\n",
        "             #   print(rsf.score(X_test, y_test), n_estimators,  min_samples_split,  min_samples_leaf, it)\n",
        "                \n",
        "            x,y=zip(*scores_rsf2.items())\n",
        "            x=pd.DataFrame(x,columns=['Iteration'])\n",
        "            y=pd.DataFrame(y,columns=['CIndex'])\n",
        "            x=pd.concat([x,y],axis=1) \n",
        "            scores_rsf[n_estimators, min_samples_split,min_samples_leaf] = mean(x.CIndex) , std(x.CIndex)  #  rsf.score(X_test, y_test)\n",
        "            \n",
        "x,y=zip(*scores_rsf.items())\n",
        "x=pd.DataFrame(x,columns=['n_estimators','min_samples_split','min_samples_leaf'])\n",
        "y=pd.DataFrame(y,columns=['CIndex','SD'])\n",
        "x=pd.concat([x,y],axis=1)\n",
        "print(x[x.CIndex== x.CIndex.max()])"
      ]
    },
    {
      "cell_type": "code",
      "execution_count": 19,
      "metadata": {},
      "outputs": [
        {
          "name": "stdout",
          "output_type": "stream",
          "text": [
            "0.6968695454592401 1\n",
            "0.6902083635269066 2\n",
            "0.6935389544930733 0.0033305909661667243\n"
          ]
        }
      ],
      "source": [
        "from numpy import mean\n",
        "from numpy import std\n",
        "scores_rsf2={}\n",
        "\n",
        "rsf = RandomSurvivalForest(n_estimators=50,\n",
        "                           min_samples_split=20,\n",
        "                           min_samples_leaf=18,\n",
        "                           n_jobs=-1,\n",
        "                           random_state=0)\n",
        "\n",
        "for it in range(1,3):\n",
        "    iter=it\n",
        "    X_train,X_test,y_train,y_test=train_test_split(X,ny,test_size=0.3333,random_state=12*iter)\n",
        "    rsf.fit(X_train,y_train)\n",
        "    scores_rsf2[iter]=rsf.score(X_test,y_test) \n",
        " #   print(rsf.score(X_test, y_test),  it)\n",
        "\n",
        "x,y=zip(*scores_rsf2.items())\n",
        "x=pd.DataFrame(x,columns=['Iteration'])\n",
        "y=pd.DataFrame(y,columns=['CIndex'])\n",
        "x=pd.concat([x,y],axis=1) \n",
        "print(mean(x.CIndex),std(x.CIndex)) "
      ]
    },
    {
      "attachments": {},
      "cell_type": "markdown",
      "metadata": {},
      "source": [
        "# SHAP"
      ]
    },
    {
      "cell_type": "code",
      "execution_count": 23,
      "metadata": {},
      "outputs": [
        {
          "name": "stderr",
          "output_type": "stream",
          "text": [
            "C:\\Users\\younesa\\AppData\\Local\\Packages\\PythonSoftwareFoundation.Python.3.10_qbz5n2kfra8p0\\LocalCache\\local-packages\\Python310\\site-packages\\tqdm\\auto.py:22: TqdmWarning: IProgress not found. Please update jupyter and ipywidgets. See https://ipywidgets.readthedocs.io/en/stable/user_install.html\n",
            "  from .autonotebook import tqdm as notebook_tqdm\n"
          ]
        }
      ],
      "source": [
        "import shap"
      ]
    },
    {
      "cell_type": "code",
      "execution_count": 24,
      "metadata": {},
      "outputs": [
        {
          "name": "stderr",
          "output_type": "stream",
          "text": [
            "Permutation explainer: 1765it [2:08:18,  4.37s/it]                            \n"
          ]
        }
      ],
      "source": [
        "rsf.fit(X,ny)  \n",
        "\n",
        "explainer=shap.Explainer(rsf.predict,X,feature_names=d3.columns)\n",
        "shaps = explainer(X)"
      ]
    },
    {
      "cell_type": "code",
      "execution_count": 25,
      "metadata": {},
      "outputs": [],
      "source": [
        "shapvalues=pd.DataFrame(shaps.values,columns =shaps.feature_names)"
      ]
    },
    {
      "cell_type": "code",
      "execution_count": 27,
      "metadata": {},
      "outputs": [],
      "source": [
        "shapvalues.to_csv('~/METABRIC/SHAP RSF.csv') "
      ]
    },
    {
      "cell_type": "code",
      "execution_count": 28,
      "metadata": {},
      "outputs": [
        {
          "data": {
            "image/png": "[encoded data removed]",
            "text/plain": [
              "<Figure size 576x684 with 2 Axes>"
            ]
          },
          "metadata": {},
          "output_type": "display_data"
        }
      ],
      "source": [
        "shap.summary_plot(shaps,feature_names=X.columns)"
      ]
    },
    {
      "cell_type": "code",
      "execution_count": 29,
      "metadata": {},
      "outputs": [
        {
          "data": {
            "image/png": "[encoded data removed]",
            "text/plain": [
              "<Figure size 576x684 with 1 Axes>"
            ]
          },
          "metadata": {},
          "output_type": "display_data"
        }
      ],
      "source": [
        "shap.summary_plot(shapvalues,X,feature_names=d3.columns,plot_type=\"bar\")"
      ]
    },
    {
      "cell_type": "code",
      "execution_count": null,
      "metadata": {},
      "outputs": [],
      "source": []
    }
  ],
  "metadata": {
    "colab": {
      "provenance": []
    },
    "kernelspec": {
      "display_name": "Python 3",
      "language": "python",
      "name": "python3"
    },
    "language_info": {
      "codemirror_mode": {
        "name": "ipython",
        "version": 3
      },
      "file_extension": ".py",
      "mimetype": "text/x-python",
      "name": "python",
      "nbconvert_exporter": "python",
      "pygments_lexer": "ipython3",
      "version": "3.10.11"
    },
    "vscode": {
      "interpreter": {
        "hash": "76e2ec65fb0817206bbcb27cd7d6bb1b9ebeafcff20f0437d1d52db4af5324e5"
      }
    },
    "widgets": {
      "application/vnd.jupyter.widget-state+json": {
        "003a568f7e7443a692bfe9895e9339bc": {
          "model_module": "@jupyter-widgets/controls",
          "model_module_version": "1.5.0",
          "model_name": "ProgressStyleModel",
          "state": {
            "_model_module": "@jupyter-widgets/controls",
            "_model_module_version": "1.5.0",
            "_model_name": "ProgressStyleModel",
            "_view_count": null,
            "_view_module": "@jupyter-widgets/base",
            "_view_module_version": "1.2.0",
            "_view_name": "StyleView",
            "bar_color": null,
            "description_width": ""
          }
        },
        "124e2edfdbda45ea878ad1cfec0c0e1d": {
          "model_module": "@jupyter-widgets/controls",
          "model_module_version": "1.5.0",
          "model_name": "HBoxModel",
          "state": {
            "_dom_classes": [],
            "_model_module": "@jupyter-widgets/controls",
            "_model_module_version": "1.5.0",
            "_model_name": "HBoxModel",
            "_view_count": null,
            "_view_module": "@jupyter-widgets/controls",
            "_view_module_version": "1.5.0",
            "_view_name": "HBoxView",
            "box_style": "",
            "children": [
              "IPY_MODEL_91d715194c0f4db3ac371f81c612942c",
              "IPY_MODEL_822914909b2d4164bfbbf83a871cfbe8",
              "IPY_MODEL_d8303a407e7d45d59ea5f7c6ba1f7055"
            ],
            "layout": "IPY_MODEL_fefa62c49dd0480b94a96b4960e9ebb6"
          }
        },
        "2112058e2ab34ff09460a7647631198e": {
          "model_module": "@jupyter-widgets/controls",
          "model_module_version": "1.5.0",
          "model_name": "DescriptionStyleModel",
          "state": {
            "_model_module": "@jupyter-widgets/controls",
            "_model_module_version": "1.5.0",
            "_model_name": "DescriptionStyleModel",
            "_view_count": null,
            "_view_module": "@jupyter-widgets/base",
            "_view_module_version": "1.2.0",
            "_view_name": "StyleView",
            "description_width": ""
          }
        },
        "2d2066c8e85a4b84a76a5389ae285525": {
          "model_module": "@jupyter-widgets/controls",
          "model_module_version": "1.5.0",
          "model_name": "DescriptionStyleModel",
          "state": {
            "_model_module": "@jupyter-widgets/controls",
            "_model_module_version": "1.5.0",
            "_model_name": "DescriptionStyleModel",
            "_view_count": null,
            "_view_module": "@jupyter-widgets/base",
            "_view_module_version": "1.2.0",
            "_view_name": "StyleView",
            "description_width": ""
          }
        },
        "563aedfd05a44ff0865bd437dc3ac8ae": {
          "model_module": "@jupyter-widgets/base",
          "model_module_version": "1.2.0",
          "model_name": "LayoutModel",
          "state": {
            "_model_module": "@jupyter-widgets/base",
            "_model_module_version": "1.2.0",
            "_model_name": "LayoutModel",
            "_view_count": null,
            "_view_module": "@jupyter-widgets/base",
            "_view_module_version": "1.2.0",
            "_view_name": "LayoutView",
            "align_content": null,
            "align_items": null,
            "align_self": null,
            "border": null,
            "bottom": null,
            "display": null,
            "flex": null,
            "flex_flow": null,
            "grid_area": null,
            "grid_auto_columns": null,
            "grid_auto_flow": null,
            "grid_auto_rows": null,
            "grid_column": null,
            "grid_gap": null,
            "grid_row": null,
            "grid_template_areas": null,
            "grid_template_columns": null,
            "grid_template_rows": null,
            "height": null,
            "justify_content": null,
            "justify_items": null,
            "left": null,
            "margin": null,
            "max_height": null,
            "max_width": null,
            "min_height": null,
            "min_width": null,
            "object_fit": null,
            "object_position": null,
            "order": null,
            "overflow": null,
            "overflow_x": null,
            "overflow_y": null,
            "padding": null,
            "right": null,
            "top": null,
            "visibility": null,
            "width": null
          }
        },
        "822914909b2d4164bfbbf83a871cfbe8": {
          "model_module": "@jupyter-widgets/controls",
          "model_module_version": "1.5.0",
          "model_name": "FloatProgressModel",
          "state": {
            "_dom_classes": [],
            "_model_module": "@jupyter-widgets/controls",
            "_model_module_version": "1.5.0",
            "_model_name": "FloatProgressModel",
            "_view_count": null,
            "_view_module": "@jupyter-widgets/controls",
            "_view_module_version": "1.5.0",
            "_view_name": "ProgressView",
            "bar_style": "success",
            "description": "",
            "description_tooltip": null,
            "layout": "IPY_MODEL_563aedfd05a44ff0865bd437dc3ac8ae",
            "max": 732,
            "min": 0,
            "orientation": "horizontal",
            "style": "IPY_MODEL_003a568f7e7443a692bfe9895e9339bc",
            "value": 732
          }
        },
        "91d715194c0f4db3ac371f81c612942c": {
          "model_module": "@jupyter-widgets/controls",
          "model_module_version": "1.5.0",
          "model_name": "HTMLModel",
          "state": {
            "_dom_classes": [],
            "_model_module": "@jupyter-widgets/controls",
            "_model_module_version": "1.5.0",
            "_model_name": "HTMLModel",
            "_view_count": null,
            "_view_module": "@jupyter-widgets/controls",
            "_view_module_version": "1.5.0",
            "_view_name": "HTMLView",
            "description": "",
            "description_tooltip": null,
            "layout": "IPY_MODEL_da121f51972b4b669c89e3c98215b7d6",
            "placeholder": "​",
            "style": "IPY_MODEL_2112058e2ab34ff09460a7647631198e",
            "value": "100%"
          }
        },
        "c321ed4b02394423a6dc2a124c0994c3": {
          "model_module": "@jupyter-widgets/base",
          "model_module_version": "1.2.0",
          "model_name": "LayoutModel",
          "state": {
            "_model_module": "@jupyter-widgets/base",
            "_model_module_version": "1.2.0",
            "_model_name": "LayoutModel",
            "_view_count": null,
            "_view_module": "@jupyter-widgets/base",
            "_view_module_version": "1.2.0",
            "_view_name": "LayoutView",
            "align_content": null,
            "align_items": null,
            "align_self": null,
            "border": null,
            "bottom": null,
            "display": null,
            "flex": null,
            "flex_flow": null,
            "grid_area": null,
            "grid_auto_columns": null,
            "grid_auto_flow": null,
            "grid_auto_rows": null,
            "grid_column": null,
            "grid_gap": null,
            "grid_row": null,
            "grid_template_areas": null,
            "grid_template_columns": null,
            "grid_template_rows": null,
            "height": null,
            "justify_content": null,
            "justify_items": null,
            "left": null,
            "margin": null,
            "max_height": null,
            "max_width": null,
            "min_height": null,
            "min_width": null,
            "object_fit": null,
            "object_position": null,
            "order": null,
            "overflow": null,
            "overflow_x": null,
            "overflow_y": null,
            "padding": null,
            "right": null,
            "top": null,
            "visibility": null,
            "width": null
          }
        },
        "d8303a407e7d45d59ea5f7c6ba1f7055": {
          "model_module": "@jupyter-widgets/controls",
          "model_module_version": "1.5.0",
          "model_name": "HTMLModel",
          "state": {
            "_dom_classes": [],
            "_model_module": "@jupyter-widgets/controls",
            "_model_module_version": "1.5.0",
            "_model_name": "HTMLModel",
            "_view_count": null,
            "_view_module": "@jupyter-widgets/controls",
            "_view_module_version": "1.5.0",
            "_view_name": "HTMLView",
            "description": "",
            "description_tooltip": null,
            "layout": "IPY_MODEL_c321ed4b02394423a6dc2a124c0994c3",
            "placeholder": "​",
            "style": "IPY_MODEL_2d2066c8e85a4b84a76a5389ae285525",
            "value": " 732/732 [2:33:00&lt;00:00, 12.52s/it]"
          }
        },
        "da121f51972b4b669c89e3c98215b7d6": {
          "model_module": "@jupyter-widgets/base",
          "model_module_version": "1.2.0",
          "model_name": "LayoutModel",
          "state": {
            "_model_module": "@jupyter-widgets/base",
            "_model_module_version": "1.2.0",
            "_model_name": "LayoutModel",
            "_view_count": null,
            "_view_module": "@jupyter-widgets/base",
            "_view_module_version": "1.2.0",
            "_view_name": "LayoutView",
            "align_content": null,
            "align_items": null,
            "align_self": null,
            "border": null,
            "bottom": null,
            "display": null,
            "flex": null,
            "flex_flow": null,
            "grid_area": null,
            "grid_auto_columns": null,
            "grid_auto_flow": null,
            "grid_auto_rows": null,
            "grid_column": null,
            "grid_gap": null,
            "grid_row": null,
            "grid_template_areas": null,
            "grid_template_columns": null,
            "grid_template_rows": null,
            "height": null,
            "justify_content": null,
            "justify_items": null,
            "left": null,
            "margin": null,
            "max_height": null,
            "max_width": null,
            "min_height": null,
            "min_width": null,
            "object_fit": null,
            "object_position": null,
            "order": null,
            "overflow": null,
            "overflow_x": null,
            "overflow_y": null,
            "padding": null,
            "right": null,
            "top": null,
            "visibility": null,
            "width": null
          }
        },
        "fefa62c49dd0480b94a96b4960e9ebb6": {
          "model_module": "@jupyter-widgets/base",
          "model_module_version": "1.2.0",
          "model_name": "LayoutModel",
          "state": {
            "_model_module": "@jupyter-widgets/base",
            "_model_module_version": "1.2.0",
            "_model_name": "LayoutModel",
            "_view_count": null,
            "_view_module": "@jupyter-widgets/base",
            "_view_module_version": "1.2.0",
            "_view_name": "LayoutView",
            "align_content": null,
            "align_items": null,
            "align_self": null,
            "border": null,
            "bottom": null,
            "display": null,
            "flex": null,
            "flex_flow": null,
            "grid_area": null,
            "grid_auto_columns": null,
            "grid_auto_flow": null,
            "grid_auto_rows": null,
            "grid_column": null,
            "grid_gap": null,
            "grid_row": null,
            "grid_template_areas": null,
            "grid_template_columns": null,
            "grid_template_rows": null,
            "height": null,
            "justify_content": null,
            "justify_items": null,
            "left": null,
            "margin": null,
            "max_height": null,
            "max_width": null,
            "min_height": null,
            "min_width": null,
            "object_fit": null,
            "object_position": null,
            "order": null,
            "overflow": null,
            "overflow_x": null,
            "overflow_y": null,
            "padding": null,
            "right": null,
            "top": null,
            "visibility": null,
            "width": null
          }
        }
      }
    }
  },
  "nbformat": 4,
  "nbformat_minor": 0
}
